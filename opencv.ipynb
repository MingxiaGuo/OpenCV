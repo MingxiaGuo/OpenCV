{
 "cells": [
  {
   "cell_type": "markdown",
   "metadata": {},
   "source": [
    "OpenCV例程300篇: https://blog.csdn.net/youcans/article/details/125112487\n",
    "\n",
    "opencv-19 图像色彩空间转换函数cv2.cvtColor():\n",
    "https://blog.csdn.net/hai411741962/article/details/131915590\n",
    "\n",
    "\n",
    "\n",
    "https://pypi.org/project/opencv-python/"
   ]
  },
  {
   "cell_type": "code",
   "execution_count": null,
   "metadata": {},
   "outputs": [],
   "source": [
    "!pip install opencv-python\n",
    "import cv2"
   ]
  },
  {
   "cell_type": "code",
   "execution_count": null,
   "metadata": {},
   "outputs": [],
   "source": [
    "# 连接摄像头或读取视频文件\n",
    "\n",
    "cap = cv2.VideoCapture(0) # 打开笔记本内置摄像头\n",
    "video_path = \"../test.av\"\n",
    "video = cv2.VideoCapture(video_path) #读取视频文件\n",
    "while video.isOpened(): # 检查视频捕获是否成功\n",
    "    ret, frame = video.read() # 按帧读取视频，ret为bool类型表示是否成功，frame是每一帧图像，是个三维矩阵\n",
    "    if ret:\n",
    "        # 对每一帧进行处理\n",
    "        cv2.imshow('image', frame)\n",
    "        # 每隔10ms读取键盘按键值\n",
    "        # if cv2.waitKey(10) & 0xFF == ord('q'):\n",
    "        if cv2.waitKey(5) == 27:\n",
    "            break\n",
    "        # waitKey()表示等待键盘输入，，参数是1表示延时1ms切换到下一帧图像，\n",
    "        #对视频而言，参数为0，如cv2.waitKey(0)只显示当前帧图像，相当于视频暂停\n",
    "        #参数过大如cv2.waitKey(100)会因为掩饰过久而感觉到卡顿\n",
    "        #c得到的是键盘输入的ASCII码，esc对应ASCII码的27，即当按esc键时if条件成立\n",
    "    else:\n",
    "        video.release() #关闭视频\n",
    "\n",
    "video.release() # 关闭视频/视频摄像头\n",
    "cv2.destroyAllWindows() #关闭所有已打开的图像窗口"
   ]
  },
  {
   "cell_type": "code",
   "execution_count": null,
   "metadata": {},
   "outputs": [],
   "source": [
    "#读取图片\n",
    "image = cv2.imread(filepath, flags) #读入图片\n",
    "image = cv2.imread(filepath, cv2.IMREAD_COLOR) # 读入一张彩色图片 忽略alpha通道 (或参数直接写1)\n",
    "image = cv2.imread(filepath, cv2.IMREAD_GRAYSCALE) # 读入灰度图片 (或参数直接写0)\n",
    "\n",
    "# 显示图片\n",
    "cv2.imshow(window_name, image)\n",
    "cv2.imshow(\"显示图片\", image)\n",
    "\n",
    "#防止立即关闭窗口\n",
    "cv2.waitKey(0) # 等待按任意键关闭图像显示窗口，没有它窗口会在程序完成后立即关闭图形窗口\n",
    "\n",
    "#保存图片\n",
    "cv2.imwrite(filename, img [,paras])\n",
    "cv2.imwrite(filename, img [,paras])\n",
    "\n",
    "# 获取图像属性信息\n",
    "cv2.get()\n",
    "\n",
    "\n",
    "# 图像缩放\n",
    "cv2.resize(image, image2,dsize)\n",
    "\n",
    "# 图像翻转 Flip on horizontal\n",
    "image = cv2.flip(image, 1)\n",
    "\n",
    "# 图像旋转\n",
    "cv2.rotate()\n",
    "\n",
    "# 图像色彩空间转换：BGR 2 RGB \n",
    "image = cv2.cvtColor(frame, cv2.COLOR_BGR2RGB) \n",
    "                \n",
    " # Set flag\n",
    "image.flags.writeable = False\n",
    "        \n"
   ]
  }
 ],
 "metadata": {
  "language_info": {
   "name": "python"
  }
 },
 "nbformat": 4,
 "nbformat_minor": 2
}
